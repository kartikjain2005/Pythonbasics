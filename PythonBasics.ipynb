{
  "nbformat": 4,
  "nbformat_minor": 0,
  "metadata": {
    "colab": {
      "provenance": []
    },
    "kernelspec": {
      "name": "python3",
      "display_name": "Python 3"
    },
    "language_info": {
      "name": "python"
    }
  },
  "cells": [
    {
      "cell_type": "markdown",
      "source": [
        "1. what is python and why is it popular ?\n",
        "-  Python is a programing language and it is an interpreted language .it   is widely used in industries\n",
        "it is popular because it is easy to understand and easy to write the code and it is widely used in industries. in this language any one can contribute it is open source in which any one can contribute as well as any one can use these libraries.in python there are approximatly 1,37,000 libraries the python language is usefull in machine learning ,datascience as well as in many feilds\n"
      ],
      "metadata": {
        "id": "l0BcJBk-dR7l"
      }
    },
    {
      "cell_type": "markdown",
      "source": [
        "2. What is an interpreter in python ?\n",
        "- In python interpreter is used to check the code line by line if there is an error in between the code it will stop there and returns the error\n"
      ],
      "metadata": {
        "id": "qQx8KVNLhELk"
      }
    },
    {
      "cell_type": "markdown",
      "source": [
        "3. what are pre-defined keywords in python?\n",
        "-  In python there are many pre defined keywords in which they are the reserved words and every keywords has there own functionality to perform the task eg: print() , if , for , while etc... they have there own different tasks"
      ],
      "metadata": {
        "id": "x4M2T23kh_3x"
      }
    },
    {
      "cell_type": "markdown",
      "source": [
        "4. Can keywords used as a variable names?\n",
        "- No, keywords can not be used as the variable names if we try to use as the variable name it will provide us an error"
      ],
      "metadata": {
        "id": "mHxYDoR8jWRD"
      }
    },
    {
      "cell_type": "markdown",
      "source": [
        "5. what is mutabilty in python ?\n",
        "- mutability in python means any value can be changeble or not example od mutability in python are List , dictionary"
      ],
      "metadata": {
        "id": "7Hp_tUOakJYQ"
      }
    },
    {
      "cell_type": "markdown",
      "source": [
        "6. why are list are mutable but tupes are immutable ?\n",
        "- List is used for changing data like adding, removing, or updating items.\n",
        "So,it is mutable\n",
        "\n",
        "- Tuple is used for fixed data like storing a date or coordinates.So, it is immutable"
      ],
      "metadata": {
        "id": "nOfNxxAPlnuo"
      }
    },
    {
      "cell_type": "markdown",
      "source": [
        "7. what is the difference between \"==\" and \"is\" operator in python?\n",
        "- \"==\" operator is to check that values are same or not\n",
        ". eg :\n",
        "      a = \"arun\"\n",
        "      b = \"arun\"    \n",
        "      print(a==b)\n",
        "- \"is\" operator is used to check that both the variable point to the same object or not  \n",
        ". eg :\n",
        "      a = \"arun\"\n",
        "      b = \"arun\"  \n",
        "      print(a is b)"
      ],
      "metadata": {
        "id": "nry0KpbznC-j"
      }
    },
    {
      "cell_type": "markdown",
      "source": [
        "8. what are logical operator in python?\n",
        "- logical operators are used to combine multiple condition and check whether it is True or False. there are 3 types in logical operator\n",
        " - \"and\" -\n",
        "it will be True if both th conditions are true\n",
        " - \"or\" - it will be true if one of the condition will be true\n",
        " - \"not\" - if the condition is true it will make it false vise-versa\n"
      ],
      "metadata": {
        "id": "Rf9PJTFKdQtm"
      }
    },
    {
      "cell_type": "markdown",
      "source": [
        "9. What is type casting in python?\n",
        "- in python we can change the one data type into another data type\n",
        "ex -\n",
        "\n",
        "```\n",
        "# This is formatted as code\n",
        "a = \"2\" #it is string\n",
        "int(a)\n",
        "type(a)\n",
        "```\n",
        "\n",
        "\n",
        " - now it hanges into int datatype\n",
        "\n"
      ],
      "metadata": {
        "id": "2N-4nzIKqvFf"
      }
    },
    {
      "cell_type": "markdown",
      "source": [
        "10. what is the difference between implicit and explicit type casting?\n",
        "- implicit type casting : in implicit type casting pyhon automatically converts the one datatype into another\n",
        " eg:\n",
        "\n",
        "\n",
        "```\n",
        "# This is formatted as code\n",
        "a = 2\n",
        "b =3.5\n",
        "c = a+b\n",
        "print(c)\n",
        "type(c)\n",
        "\n",
        "\n",
        "output:\n",
        "  5.5\n",
        "  Float\n",
        "```\n",
        "\n",
        "- explicit type casting : in explicit type casting we have to convert the one datatype into another datatype manually\n",
        "\n",
        "\n",
        "```\n",
        "# This is formatted as code\n",
        "a = 2\n",
        "b =3.5\n",
        "c = a+b\n",
        "int(c) # here we change the datatype of c manually\n",
        "print(c)\n",
        "type(c)\n",
        "\n",
        "\n",
        "output :\n",
        "  5\n",
        "  int\n",
        "\n",
        "```"
      ],
      "metadata": {
        "id": "Pb2t6yQNsMwj"
      }
    },
    {
      "cell_type": "markdown",
      "source": [
        "11. what is the purpose of conditional statement in python?\n",
        "- The purpose of conditonal statement in Python is to take decision basedon the conditions eg:-\n",
        "\n",
        "\n",
        "```\n",
        "# This is formatted as code\n",
        "age = 12\n",
        "if age <18:\n",
        "    print(\"you are not adult you can not vote\")\n",
        "else:\n",
        "    print(\"you are adult you can vote \")\n",
        "\n",
        "```\n",
        "\n"
      ],
      "metadata": {
        "id": "XJmNwVVdhaBR"
      }
    },
    {
      "cell_type": "markdown",
      "source": [
        "12. How does the elif statement work ?\n",
        "- if there is multiple condition we use elif it checks firstly \"if\" condition if it doesn't satisfy then it will checks the elif condition and if elif condition also unsatisfied then atlast it will perform the else condition\n",
        "eg:-\n",
        "\n",
        "\n",
        "```\n",
        "# This is formatted as code\n",
        "marks = 85\n",
        "\n",
        "if marks >= 90:\n",
        "    print(\"Grade A\")\n",
        "elif marks >= 75:\n",
        "    print(\"Grade B\")\n",
        "elif marks >= 60:\n",
        "    print(\"Grade C\")\n",
        "else:\n",
        "    print(\"Fail\")\n",
        "```\n",
        "\n"
      ],
      "metadata": {
        "id": "cGqS0A7-kEyo"
      }
    },
    {
      "cell_type": "markdown",
      "source": [
        "13. what is the difference \"for\" and \"while\" loop?\n",
        "- for loops is used when we know how many times we need to iterate\n",
        "\n",
        "\n",
        "```\n",
        "# This is formatted as code\n",
        "for i in range(5):\n",
        "    print(i)\n",
        "\n",
        "\n",
        "output:\n",
        "0\n",
        "1\n",
        "2\n",
        "3\n",
        "4\n",
        "```\n",
        "- while loop is used when we need to repeat until the condition is true\n",
        "\n",
        "\n",
        "```\n",
        "# This is formatted as code\n",
        "i = 0\n",
        "while i<5:\n",
        "    print(i)\n",
        "    i=i+1;\n",
        "    \n",
        "```\n",
        "\n",
        "\n"
      ],
      "metadata": {
        "id": "nzEACePomueY"
      }
    },
    {
      "cell_type": "markdown",
      "source": [
        "14. describe a scenario where a while loop is more suitable than a for loop\n",
        "-\n",
        "\n",
        "\n",
        "```\n",
        "# This is formatted as code\n",
        "correct_password = \"python123\"\n",
        "user_input = \"\"\n",
        "\n",
        "while user_input != correct_password:\n",
        "    user_input = input(\"Enter password: \")\n",
        "\n",
        "print(\"Access Granted!\")\n",
        "\n",
        "```\n",
        "In this code if we use the for loop we need to give the limit but we don't know how many times the user entered the wrong password so we take the while loop where we entered the condition that if user_input != correct_password\n",
        "\n",
        "- user_input = input(\"Enter password\")\n"
      ],
      "metadata": {
        "id": "WYxEYFXMp-W9"
      }
    },
    {
      "cell_type": "markdown",
      "source": [
        "# **--PRACTICAL QUESTIONS--**"
      ],
      "metadata": {
        "id": "FIwrGwaHr3y4"
      }
    },
    {
      "cell_type": "markdown",
      "source": [
        "1. Write a python program to print \"Hello, World!\""
      ],
      "metadata": {
        "id": "CrorGzHlsPWD"
      }
    },
    {
      "cell_type": "code",
      "source": [
        "print(\"Hello, world!\")"
      ],
      "metadata": {
        "colab": {
          "base_uri": "https://localhost:8080/"
        },
        "id": "heWhPTFdskPx",
        "outputId": "a15f5d0b-763c-454a-8b2b-ca9fdc400749"
      },
      "execution_count": null,
      "outputs": [
        {
          "output_type": "stream",
          "name": "stdout",
          "text": [
            "Hello world!\n"
          ]
        }
      ]
    },
    {
      "cell_type": "markdown",
      "source": [
        "2. write a python program to display your name and age"
      ],
      "metadata": {
        "id": "zkYQI9rss5op"
      }
    },
    {
      "cell_type": "code",
      "source": [
        "name = \"Kartik jain\"\n",
        "age = \"20\"\n",
        "print(\"name : \" ,  name)\n",
        "print(\"age : \" , age)"
      ],
      "metadata": {
        "colab": {
          "base_uri": "https://localhost:8080/"
        },
        "id": "vvLWsLH8srja",
        "outputId": "233f2cb5-06e6-4747-c1a7-3f9047f5797e"
      },
      "execution_count": null,
      "outputs": [
        {
          "output_type": "stream",
          "name": "stdout",
          "text": [
            "name :  Kartik jain\n",
            "age :  20\n"
          ]
        }
      ]
    },
    {
      "cell_type": "markdown",
      "source": [
        "3. Write code to print all the pre-defined keywords in Python using the keyword library"
      ],
      "metadata": {
        "id": "1jbQfuzAvSh3"
      }
    },
    {
      "cell_type": "code",
      "source": [
        "help('keywords')"
      ],
      "metadata": {
        "colab": {
          "base_uri": "https://localhost:8080/"
        },
        "id": "cmvp35JgvspU",
        "outputId": "0dd6fe7d-4ed0-4d3d-935b-50da874232e5"
      },
      "execution_count": null,
      "outputs": [
        {
          "output_type": "stream",
          "name": "stdout",
          "text": [
            "\n",
            "Here is a list of the Python keywords.  Enter any keyword to get more help.\n",
            "\n",
            "False               class               from                or\n",
            "None                continue            global              pass\n",
            "True                def                 if                  raise\n",
            "and                 del                 import              return\n",
            "as                  elif                in                  try\n",
            "assert              else                is                  while\n",
            "async               except              lambda              with\n",
            "await               finally             nonlocal            yield\n",
            "break               for                 not                 \n",
            "\n"
          ]
        }
      ]
    },
    {
      "cell_type": "markdown",
      "source": [
        "4. Write a program that checks if a given word is a Python keyword.\n"
      ],
      "metadata": {
        "id": "lKDHMXwjwKGR"
      }
    },
    {
      "cell_type": "code",
      "source": [
        " import keyword\n",
        " word = input(\"Enter a word: \")\n",
        "\n",
        "print(word, \"is a keyword:\", keyword.iskeyword(word))"
      ],
      "metadata": {
        "colab": {
          "base_uri": "https://localhost:8080/"
        },
        "id": "WXH4sys1x9df",
        "outputId": "98439e54-7405-457b-b9f6-b5fddf386c2e"
      },
      "execution_count": null,
      "outputs": [
        {
          "output_type": "stream",
          "name": "stdout",
          "text": [
            "Enter a word: if\n",
            "if is a keyword: True\n"
          ]
        }
      ]
    },
    {
      "cell_type": "markdown",
      "source": [
        "5. Create a list and tuple in Python, and demonstrate how attempting to change an element works differently\n",
        "for each."
      ],
      "metadata": {
        "id": "rXAtJbwlygNc"
      }
    },
    {
      "cell_type": "code",
      "source": [
        "\n",
        "my_list = [10, 20, 30]\n",
        "print(\"Original list:\", my_list)\n",
        "\n",
        "my_list[1] = 99\n",
        "print(\"Modified list:\", my_list)\n",
        "\n",
        "my_tuple = (10, 20, 30)\n",
        "print(\"\\nOriginal tuple:\", my_tuple)\n",
        "my_tuple[1] = 99\n"
      ],
      "metadata": {
        "colab": {
          "base_uri": "https://localhost:8080/",
          "height": 245
        },
        "id": "t36CtHoSyh-z",
        "outputId": "da398d4b-e31e-4517-cc3e-9980531100f8"
      },
      "execution_count": null,
      "outputs": [
        {
          "output_type": "stream",
          "name": "stdout",
          "text": [
            "Original list: [10, 20, 30]\n",
            "Modified list: [10, 99, 30]\n",
            "\n",
            "Original tuple: (10, 20, 30)\n"
          ]
        },
        {
          "output_type": "error",
          "ename": "TypeError",
          "evalue": "'tuple' object does not support item assignment",
          "traceback": [
            "\u001b[0;31m---------------------------------------------------------------------------\u001b[0m",
            "\u001b[0;31mTypeError\u001b[0m                                 Traceback (most recent call last)",
            "\u001b[0;32m/tmp/ipython-input-11-1455524918.py\u001b[0m in \u001b[0;36m<cell line: 0>\u001b[0;34m()\u001b[0m\n\u001b[1;32m      7\u001b[0m \u001b[0mmy_tuple\u001b[0m \u001b[0;34m=\u001b[0m \u001b[0;34m(\u001b[0m\u001b[0;36m10\u001b[0m\u001b[0;34m,\u001b[0m \u001b[0;36m20\u001b[0m\u001b[0;34m,\u001b[0m \u001b[0;36m30\u001b[0m\u001b[0;34m)\u001b[0m\u001b[0;34m\u001b[0m\u001b[0;34m\u001b[0m\u001b[0m\n\u001b[1;32m      8\u001b[0m \u001b[0mprint\u001b[0m\u001b[0;34m(\u001b[0m\u001b[0;34m\"\\nOriginal tuple:\"\u001b[0m\u001b[0;34m,\u001b[0m \u001b[0mmy_tuple\u001b[0m\u001b[0;34m)\u001b[0m\u001b[0;34m\u001b[0m\u001b[0;34m\u001b[0m\u001b[0m\n\u001b[0;32m----> 9\u001b[0;31m \u001b[0mmy_tuple\u001b[0m\u001b[0;34m[\u001b[0m\u001b[0;36m1\u001b[0m\u001b[0;34m]\u001b[0m \u001b[0;34m=\u001b[0m \u001b[0;36m99\u001b[0m\u001b[0;34m\u001b[0m\u001b[0;34m\u001b[0m\u001b[0m\n\u001b[0m",
            "\u001b[0;31mTypeError\u001b[0m: 'tuple' object does not support item assignment"
          ]
        }
      ]
    },
    {
      "cell_type": "markdown",
      "source": [
        "6. Write a function to demonstrate the behavior of mutable and immutable arguments\n"
      ],
      "metadata": {
        "id": "ZS4UEMmpzAH-"
      }
    },
    {
      "cell_type": "code",
      "source": [
        "# Immutable example\n",
        "a = 5\n",
        "b = a\n",
        "b = b + 1\n",
        "\n",
        "print(\"Immutable Example:\")\n",
        "print(\"a =\", a)\n",
        "print(\"b =\", b)\n",
        "\n",
        "print()\n",
        "\n",
        "# Mutable example\n",
        "list1 = [1, 2, 3]\n",
        "list2 = list1\n",
        "list2.append(4)\n",
        "\n",
        "print(\"Mutable Example:\")\n",
        "print(\"list1 =\", list1)\n",
        "print(\"list2 =\", list2)\n"
      ],
      "metadata": {
        "colab": {
          "base_uri": "https://localhost:8080/"
        },
        "id": "JWZ-Lha901Rl",
        "outputId": "0c755bf6-ec1e-49ca-d14e-49b658a28614"
      },
      "execution_count": null,
      "outputs": [
        {
          "output_type": "stream",
          "name": "stdout",
          "text": [
            "Immutable Example:\n",
            "a = 5\n",
            "b = 6\n",
            "\n",
            "Mutable Example:\n",
            "list1 = [1, 2, 3, 4]\n",
            "list2 = [1, 2, 3, 4]\n"
          ]
        }
      ]
    },
    {
      "cell_type": "markdown",
      "source": [
        "7. Write a program that performs basic arithmetic operations on two user-input numbers"
      ],
      "metadata": {
        "id": "_89FQrd61DZH"
      }
    },
    {
      "cell_type": "code",
      "source": [
        "\n",
        "num1 = float(input(\"Enter first number: \"))\n",
        "num2 = float(input(\"Enter second number: \"))\n",
        "print(\"\\nResults:\")\n",
        "print(\"Addition:\", num1 + num2)\n",
        "print(\"Subtraction:\", num1 - num2)\n",
        "print(\"Multiplication:\", num1 * num2)"
      ],
      "metadata": {
        "colab": {
          "base_uri": "https://localhost:8080/"
        },
        "id": "v0DfRMip1MFI",
        "outputId": "3b75e4a9-6c93-415f-b887-3bcb7298e47d"
      },
      "execution_count": null,
      "outputs": [
        {
          "output_type": "stream",
          "name": "stdout",
          "text": [
            "Enter first number: 5\n",
            "Enter second number: 6\n",
            "\n",
            "Results:\n",
            "Addition: 11.0\n",
            "Subtraction: -1.0\n",
            "Multiplication: 30.0\n"
          ]
        }
      ]
    },
    {
      "cell_type": "markdown",
      "source": [
        "8. Write a program to demonstrate the use of logical operators."
      ],
      "metadata": {
        "id": "12DK5EBv1VvU"
      }
    },
    {
      "cell_type": "code",
      "source": [
        "a = int(input(\"Enter first number: \"))\n",
        "b = int(input(\"Enter second number: \"))\n",
        "#logical AND\n",
        "print(\"\\nLogical AND (a > 0 and b > 0):\", a > 0 and b > 0)\n",
        "\n",
        "# Logical OR\n",
        "print(\"Logical OR (a > 0 or b > 0):\", a > 0 or b > 0)\n",
        "\n",
        "# Logical NOT\n",
        "print(\"Logical NOT (not (a > 0)):\", not (a > 0))\n"
      ],
      "metadata": {
        "colab": {
          "base_uri": "https://localhost:8080/"
        },
        "id": "Tuq8b8H_1cEa",
        "outputId": "6c6b3241-0a47-4623-b58d-40e03ad5b1c6"
      },
      "execution_count": null,
      "outputs": [
        {
          "output_type": "stream",
          "name": "stdout",
          "text": [
            "Enter first number: 5\n",
            "Enter second number: 3\n",
            "\n",
            "Logical AND (a > 0 and b > 0): True\n",
            "Logical OR (a > 0 or b > 0): True\n",
            "Logical NOT (not (a > 0)): False\n"
          ]
        }
      ]
    },
    {
      "cell_type": "markdown",
      "source": [
        " 9. Write a Python program to convert user input from string to integer, float, and boolean types."
      ],
      "metadata": {
        "id": "AmChpmN22QN-"
      }
    },
    {
      "cell_type": "code",
      "source": [
        "a = input(\"enter a string\")\n",
        "b = int(a)\n",
        "type(b)\n",
        "print(\"type of b is\" , type(b) , b)\n",
        "c = float(a)\n",
        "print(\"type of c is\" , type(c) , c)\n",
        "d = bool(a)\n",
        "print(\"type of d is\" , type(d) , d)\n"
      ],
      "metadata": {
        "colab": {
          "base_uri": "https://localhost:8080/"
        },
        "id": "heBLhtnZ6Ojk",
        "outputId": "daf78cc5-2f6c-4c8e-ddfa-418237c7b40e"
      },
      "execution_count": 4,
      "outputs": [
        {
          "output_type": "stream",
          "name": "stdout",
          "text": [
            "enter a string5\n",
            "type of b is <class 'int'> 5\n",
            "type of c is <class 'float'> 5.0\n",
            "type of d is <class 'bool'> True\n"
          ]
        }
      ]
    },
    {
      "cell_type": "markdown",
      "source": [
        "10. Write code to demonstrate type casting with list elements."
      ],
      "metadata": {
        "id": "TpPPGAmGp6cn"
      }
    },
    {
      "cell_type": "code",
      "source": [
        "\n",
        "data = ['10', '20', '30']\n",
        "a = [int(x) for x in data]\n",
        "print(\"Integer list:\", a)\n",
        "b = [float(x) for x in data]\n",
        "print(\"Float list:\", b)\n",
        "\n",
        "c = [bool(int(x)) for x in data]  #\n",
        "print(\"Boolean list:\", c)\n"
      ],
      "metadata": {
        "colab": {
          "base_uri": "https://localhost:8080/"
        },
        "id": "VV18B2OhqT7A",
        "outputId": "7c1f359c-b331-460d-9e84-d579af0b1552"
      },
      "execution_count": 9,
      "outputs": [
        {
          "output_type": "stream",
          "name": "stdout",
          "text": [
            "Integer list: [10, 20, 30]\n",
            "Float list: [10.0, 20.0, 30.0]\n",
            "Boolean list: [True, True, True]\n"
          ]
        }
      ]
    },
    {
      "cell_type": "markdown",
      "source": [
        "11. Write a program that checks if a number is positive, negative, or zero."
      ],
      "metadata": {
        "id": "7YRgfFvwrZER"
      }
    },
    {
      "cell_type": "code",
      "source": [
        "a = int(input(\"enter the number\"))\n",
        "if a < 0:\n",
        "  print(\"number is negetive\")\n",
        "elif a>0:\n",
        "  print(\"number is positive\")\n",
        "else:\n",
        "  print(\"number is zero\")"
      ],
      "metadata": {
        "colab": {
          "base_uri": "https://localhost:8080/"
        },
        "id": "55_ZaJvCr47P",
        "outputId": "b5735c0a-bb37-4edc-85a9-05b18093e1f4"
      },
      "execution_count": 15,
      "outputs": [
        {
          "output_type": "stream",
          "name": "stdout",
          "text": [
            "enter the number6\n",
            "number is positive\n"
          ]
        }
      ]
    },
    {
      "cell_type": "markdown",
      "source": [
        "12. Write a for loop to print numbers from 1 to 10"
      ],
      "metadata": {
        "id": "8EMbMxGfsw6I"
      }
    },
    {
      "cell_type": "code",
      "source": [
        "for i in range(1,11):\n",
        "  print(i)"
      ],
      "metadata": {
        "colab": {
          "base_uri": "https://localhost:8080/"
        },
        "id": "E2ETFIP2szz7",
        "outputId": "30731a8d-4528-4a70-f8c8-f2cd233acbf6"
      },
      "execution_count": 20,
      "outputs": [
        {
          "output_type": "stream",
          "name": "stdout",
          "text": [
            "1\n",
            "2\n",
            "3\n",
            "4\n",
            "5\n",
            "6\n",
            "7\n",
            "8\n",
            "9\n",
            "10\n"
          ]
        }
      ]
    },
    {
      "cell_type": "markdown",
      "source": [
        "13.  Write a Python program to find the sum of all even numbers between 1 and 50"
      ],
      "metadata": {
        "id": "M7l8jHxLtm_0"
      }
    },
    {
      "cell_type": "code",
      "source": [
        "sum = 0\n",
        "for i in range(1,51):\n",
        "  if(i%2 == 0):\n",
        "    sum = sum + i\n",
        "print(sum)"
      ],
      "metadata": {
        "colab": {
          "base_uri": "https://localhost:8080/"
        },
        "id": "SElZ8Fiitmdk",
        "outputId": "dd4217d9-ec89-4682-96fb-ee63637020b9"
      },
      "execution_count": 22,
      "outputs": [
        {
          "output_type": "stream",
          "name": "stdout",
          "text": [
            "650\n"
          ]
        }
      ]
    },
    {
      "cell_type": "markdown",
      "source": [
        "14. Write a program to reverse a string using a while loop."
      ],
      "metadata": {
        "id": "R09hFZNauWuS"
      }
    },
    {
      "cell_type": "code",
      "source": [
        "a = input(\"enter a string : \")\n",
        "i = len(a) - 1\n",
        "while i>=0:\n",
        "  print(a[i])\n",
        "  i = i-1"
      ],
      "metadata": {
        "colab": {
          "base_uri": "https://localhost:8080/"
        },
        "id": "y66bXYNmubcf",
        "outputId": "b57cd8bb-aa6d-4685-f2b3-0e40ad88d739"
      },
      "execution_count": 27,
      "outputs": [
        {
          "output_type": "stream",
          "name": "stdout",
          "text": [
            "enter a string : Kartik Jain\n",
            "n\n",
            "i\n",
            "a\n",
            "J\n",
            " \n",
            "k\n",
            "i\n",
            "t\n",
            "r\n",
            "a\n",
            "K\n"
          ]
        }
      ]
    },
    {
      "cell_type": "markdown",
      "source": [
        "15. Write a Python program to calculate the factorial of a number provided by the user using a while loop."
      ],
      "metadata": {
        "id": "8hz1MdYKvka9"
      }
    },
    {
      "cell_type": "code",
      "source": [
        "num = int(input(\"Enter a number: \"))\n",
        "factorial = 1\n",
        "i = 1\n",
        "while i <= num:\n",
        "    factorial *= i\n",
        "    i += 1\n",
        "print(\"Factorial of\", num, \"is\", factorial)\n"
      ],
      "metadata": {
        "colab": {
          "base_uri": "https://localhost:8080/"
        },
        "id": "gYIkvY-Gv4S9",
        "outputId": "410bf322-eb57-4c98-b8c6-3c4c9832cbe7"
      },
      "execution_count": 28,
      "outputs": [
        {
          "output_type": "stream",
          "name": "stdout",
          "text": [
            "Enter a number: 5\n",
            "Factorial of 5 is 120\n"
          ]
        }
      ]
    }
  ]
}